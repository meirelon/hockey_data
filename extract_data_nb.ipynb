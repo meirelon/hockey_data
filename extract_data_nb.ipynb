{
 "cells": [
  {
   "cell_type": "code",
   "execution_count": 1,
   "metadata": {},
   "outputs": [],
   "source": [
    "from extract_utilities.rosters import Rosters\n",
    "from extract_utilities.stats import Stats\n",
    "from extract_utilities.schedules import Schedules\n",
    "\n",
    "from extract_utilities import nhl_data_requests as ndr\n",
    "import logging\n",
    "\n",
    "\n",
    "logging.basicConfig(filename='logging/notebook.log', format='%(asctime)s - %(message)s', level=logging.INFO)"
   ]
  },
  {
   "cell_type": "code",
   "execution_count": 2,
   "metadata": {},
   "outputs": [],
   "source": [
    "rosters = Rosters()\n",
    "schedules = Schedules()"
   ]
  },
  {
   "cell_type": "code",
   "execution_count": 3,
   "metadata": {},
   "outputs": [],
   "source": [
    "schedules.unnest_scoringplays()"
   ]
  },
  {
   "cell_type": "code",
   "execution_count": 3,
   "metadata": {},
   "outputs": [],
   "source": [
    "schedules.get_all_team_schedules()"
   ]
  },
  {
   "cell_type": "code",
   "execution_count": null,
   "metadata": {},
   "outputs": [],
   "source": [
    "rosters.all_player_metadata_to_df()"
   ]
  },
  {
   "cell_type": "code",
   "execution_count": 2,
   "metadata": {},
   "outputs": [],
   "source": [
    "player_level_requests = [\"yearByYear\", \"yearByYearPlayoffs\"]\n",
    "player_and_season_level_requests = [\"gameLog\",\"playoffGameLog\",\"goalsByGameSituation\",\"goalsByGameSituationPlayoffs\"]"
   ]
  },
  {
   "cell_type": "code",
   "execution_count": 3,
   "metadata": {},
   "outputs": [
    {
     "name": "stdout",
     "output_type": "stream",
     "text": [
      "[====================] 100%"
     ]
    },
    {
     "data": {
      "text/plain": [
       "True"
      ]
     },
     "execution_count": 3,
     "metadata": {},
     "output_type": "execute_result"
    }
   ],
   "source": [
    "stats = Stats(stats_types=player_and_season_level_requests, collect=True, season_level_request=True)\n",
    "stats.all_player_stats(player_type=\"goalie\")\n",
    "\n",
    "stats = Stats(stats_types=player_level_requests, collect=True, season_level_request=False)\n",
    "stats.all_player_stats(player_type=\"goalie\")"
   ]
  },
  {
   "cell_type": "code",
   "execution_count": 3,
   "metadata": {},
   "outputs": [
    {
     "name": "stdout",
     "output_type": "stream",
     "text": [
      "[====================] 100%"
     ]
    },
    {
     "data": {
      "text/plain": [
       "True"
      ]
     },
     "execution_count": 3,
     "metadata": {},
     "output_type": "execute_result"
    }
   ],
   "source": [
    "stats = Stats(stats_types=player_and_season_level_requests, collect=True, season_level_request=True)\n",
    "stats.all_player_stats(player_type=\"skater\")\n",
    "\n",
    "stats = Stats(stats_types=player_level_requests, collect=True, season_level_request=False)\n",
    "stats.all_player_stats(player_type=\"skater\")"
   ]
  },
  {
   "cell_type": "code",
   "execution_count": 3,
   "metadata": {},
   "outputs": [
    {
     "name": "stdout",
     "output_type": "stream",
     "text": [
      "[====================] 100%"
     ]
    }
   ],
   "source": [
    "all_skater_stats = stats.all_player_stats(player_type=\"skater\")"
   ]
  },
  {
   "cell_type": "code",
   "execution_count": 2,
   "metadata": {},
   "outputs": [
    {
     "name": "stdout",
     "output_type": "stream",
     "text": [
      "[====================] 100%"
     ]
    }
   ],
   "source": [
    "stats = Stats(data_since='1924-09-30')\n",
    "live = stats.nhl_live()"
   ]
  },
  {
   "cell_type": "code",
   "execution_count": 5,
   "metadata": {},
   "outputs": [],
   "source": [
    "schedules = Schedules(expand=[\"schedule.scoringplays\"], collect=True)"
   ]
  },
  {
   "cell_type": "code",
   "execution_count": 6,
   "metadata": {},
   "outputs": [
    {
     "name": "stdout",
     "output_type": "stream",
     "text": [
      "[====================] 100%"
     ]
    }
   ],
   "source": [
    "# schedules = Schedules(collect=True)\n",
    "schedules.schedules_all_teams_all_seasons()"
   ]
  },
  {
   "cell_type": "code",
   "execution_count": 49,
   "metadata": {},
   "outputs": [
    {
     "data": {
      "text/plain": [
       "dict_keys(['players', 'result', 'about', 'coordinates', 'team'])"
      ]
     },
     "execution_count": 49,
     "metadata": {},
     "output_type": "execute_result"
    }
   ],
   "source": [
    "df[\"scoringPlays\"].values[0][0].keys()"
   ]
  },
  {
   "cell_type": "code",
   "execution_count": 61,
   "metadata": {},
   "outputs": [
    {
     "data": {
      "text/html": [
       "<div>\n",
       "<style scoped>\n",
       "    .dataframe tbody tr th:only-of-type {\n",
       "        vertical-align: middle;\n",
       "    }\n",
       "\n",
       "    .dataframe tbody tr th {\n",
       "        vertical-align: top;\n",
       "    }\n",
       "\n",
       "    .dataframe thead th {\n",
       "        text-align: right;\n",
       "    }\n",
       "</style>\n",
       "<table border=\"1\" class=\"dataframe\">\n",
       "  <thead>\n",
       "    <tr style=\"text-align: right;\">\n",
       "      <th></th>\n",
       "      <th>playerType</th>\n",
       "      <th>seasonTotal</th>\n",
       "      <th>id</th>\n",
       "      <th>fullName</th>\n",
       "      <th>link</th>\n",
       "    </tr>\n",
       "  </thead>\n",
       "  <tbody>\n",
       "    <tr>\n",
       "      <th>0</th>\n",
       "      <td>Scorer</td>\n",
       "      <td>1.0</td>\n",
       "      <td>8477573</td>\n",
       "      <td>Nathan Walker</td>\n",
       "      <td>/api/v1/people/8477573</td>\n",
       "    </tr>\n",
       "    <tr>\n",
       "      <th>0</th>\n",
       "      <td>Assist</td>\n",
       "      <td>1.0</td>\n",
       "      <td>8474189</td>\n",
       "      <td>Lars Eller</td>\n",
       "      <td>/api/v1/people/8474189</td>\n",
       "    </tr>\n",
       "    <tr>\n",
       "      <th>0</th>\n",
       "      <td>Goalie</td>\n",
       "      <td>NaN</td>\n",
       "      <td>8476234</td>\n",
       "      <td>Keith Kinkaid</td>\n",
       "      <td>/api/v1/people/8476234</td>\n",
       "    </tr>\n",
       "  </tbody>\n",
       "</table>\n",
       "</div>"
      ],
      "text/plain": [
       "  playerType  seasonTotal       id       fullName                    link\n",
       "0     Scorer          1.0  8477573  Nathan Walker  /api/v1/people/8477573\n",
       "0     Assist          1.0  8474189     Lars Eller  /api/v1/people/8474189\n",
       "0     Goalie          NaN  8476234  Keith Kinkaid  /api/v1/people/8476234"
      ]
     },
     "execution_count": 61,
     "metadata": {},
     "output_type": "execute_result"
    }
   ],
   "source": [
    "scoring_plays_df = pd.concat([pd.json_normalize(v) for v in df[\"scoringPlays\"].values[0][0][\"players\"]])\n",
    "scoring_plays_df.columns = scoring_plays_df.columns.str.replace(\".+[.]\", \"\", regex=True)\n",
    "scoring_plays_df"
   ]
  },
  {
   "cell_type": "code",
   "execution_count": 5,
   "metadata": {},
   "outputs": [],
   "source": [
    "import pandas as pd\n",
    "import numpy as np\n",
    "player_seasons = pd.read_csv(\"data/rosters/rosters.csv\", usecols=[\"person_id\", \"season\"]) \\\n",
    "        .groupby(\"person_id\").agg({\"season\": [np.min, np.max]}).reset_index()"
   ]
  },
  {
   "cell_type": "code",
   "execution_count": 6,
   "metadata": {},
   "outputs": [
    {
     "data": {
      "text/html": [
       "<div>\n",
       "<style scoped>\n",
       "    .dataframe tbody tr th:only-of-type {\n",
       "        vertical-align: middle;\n",
       "    }\n",
       "\n",
       "    .dataframe tbody tr th {\n",
       "        vertical-align: top;\n",
       "    }\n",
       "\n",
       "    .dataframe thead tr th {\n",
       "        text-align: left;\n",
       "    }\n",
       "</style>\n",
       "<table border=\"1\" class=\"dataframe\">\n",
       "  <thead>\n",
       "    <tr>\n",
       "      <th></th>\n",
       "      <th>person_id</th>\n",
       "      <th colspan=\"2\" halign=\"left\">season</th>\n",
       "    </tr>\n",
       "    <tr>\n",
       "      <th></th>\n",
       "      <th></th>\n",
       "      <th>amin</th>\n",
       "      <th>amax</th>\n",
       "    </tr>\n",
       "  </thead>\n",
       "  <tbody>\n",
       "    <tr>\n",
       "      <th>6582</th>\n",
       "      <td>8475848</td>\n",
       "      <td>20122013</td>\n",
       "      <td>20212022</td>\n",
       "    </tr>\n",
       "  </tbody>\n",
       "</table>\n",
       "</div>"
      ],
      "text/plain": [
       "     person_id    season          \n",
       "                    amin      amax\n",
       "6582   8475848  20122013  20212022"
      ]
     },
     "execution_count": 6,
     "metadata": {},
     "output_type": "execute_result"
    }
   ],
   "source": [
    "tmp = player_seasons[player_seasons[\"person_id\"].isin([8475848])]\n",
    "tmp"
   ]
  },
  {
   "cell_type": "code",
   "execution_count": 7,
   "metadata": {},
   "outputs": [
    {
     "data": {
      "text/plain": [
       "numpy.int64"
      ]
     },
     "execution_count": 7,
     "metadata": {},
     "output_type": "execute_result"
    }
   ],
   "source": [
    "type(tmp.season.amin.values[0])"
   ]
  },
  {
   "cell_type": "code",
   "execution_count": null,
   "metadata": {},
   "outputs": [],
   "source": []
  }
 ],
 "metadata": {
  "interpreter": {
   "hash": "19888d2f638949fe9cd8d15f1c3801bd6298856b75d399f60ed7ae1d5775900c"
  },
  "kernelspec": {
   "display_name": "Python 3.9.12 ('hockey_data')",
   "language": "python",
   "name": "python3"
  },
  "language_info": {
   "codemirror_mode": {
    "name": "ipython",
    "version": 3
   },
   "file_extension": ".py",
   "mimetype": "text/x-python",
   "name": "python",
   "nbconvert_exporter": "python",
   "pygments_lexer": "ipython3",
   "version": "3.9.12"
  },
  "orig_nbformat": 4
 },
 "nbformat": 4,
 "nbformat_minor": 2
}
