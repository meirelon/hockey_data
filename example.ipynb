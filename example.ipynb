{
 "cells": [
  {
   "cell_type": "markdown",
   "metadata": {},
   "source": [
    "# NHL API Data (Extract & Store)\n",
    "\n",
    "## Steps\n",
    "1. data/rosters/rosters.csv\n",
    "2. data/metadata/metadata.csv\n",
    "3. data/schedules/\n",
    "4. data/stats/"
   ]
  },
  {
   "cell_type": "code",
   "execution_count": 2,
   "metadata": {},
   "outputs": [],
   "source": [
    "from extract_utilities.rosters import Rosters\n",
    "from extract_utilities.stats import Stats\n",
    "from extract_utilities.schedules import Schedules\n",
    "\n",
    "from extract_utilities import nhl_data_requests as ndr\n",
    "import logging\n",
    "\n",
    "\n",
    "logging.basicConfig(\n",
    "    filename=\"example.log\", format=\"%(asctime)s - %(message)s\", level=logging.INFO\n",
    ")\n"
   ]
  },
  {
   "cell_type": "code",
   "execution_count": null,
   "metadata": {},
   "outputs": [],
   "source": [
    "rosters = Rosters()\n",
    "rosters.all_rosters_to_df()\n",
    "rosters.all_player_metadata_to_df()\n"
   ]
  },
  {
   "cell_type": "code",
   "execution_count": null,
   "metadata": {},
   "outputs": [],
   "source": [
    "schedules = Schedules(collect=True)\n",
    "schedules.schedules_all_teams_all_seasons()\n",
    "\n",
    "schedules = Schedules(expand=[\"schedule.scoringplays\"], collect=True)\n",
    "schedules.schedules_all_teams_all_seasons()\n"
   ]
  },
  {
   "cell_type": "code",
   "execution_count": null,
   "metadata": {},
   "outputs": [],
   "source": [
    "stats = Stats(\n",
    "    stats_types=player_and_season_level_requests,\n",
    "    collect=True,\n",
    "    season_level_request=True,\n",
    ")\n",
    "stats.all_player_stats(player_type=\"goalie\")\n",
    "\n",
    "stats = Stats(\n",
    "    stats_types=player_level_requests, collect=True, season_level_request=False\n",
    ")\n",
    "stats.all_player_stats(player_type=\"goalie\")\n"
   ]
  },
  {
   "cell_type": "code",
   "execution_count": null,
   "metadata": {},
   "outputs": [],
   "source": [
    "player_level_requests = [\"yearByYear\", \"yearByYearPlayoffs\"]\n",
    "player_and_season_level_requests = [\n",
    "    \"gameLog\",\n",
    "    \"playoffGameLog\",\n",
    "    \"goalsByGameSituation\",\n",
    "    \"goalsByGameSituationPlayoffs\",\n",
    "]\n",
    "\n",
    "stats = Stats(\n",
    "    stats_types=player_and_season_level_requests,\n",
    "    collect=True,\n",
    "    season_level_request=True,\n",
    ")\n",
    "stats.all_player_stats(player_type=\"skater\")\n",
    "\n",
    "stats = Stats(\n",
    "    stats_types=player_level_requests, collect=True, season_level_request=False\n",
    ")\n",
    "stats.all_player_stats(player_type=\"skater\")\n"
   ]
  }
 ],
 "metadata": {
  "kernelspec": {
   "display_name": "Python 3.9.10 64-bit",
   "language": "python",
   "name": "python3"
  },
  "language_info": {
   "codemirror_mode": {
    "name": "ipython",
    "version": 3
   },
   "file_extension": ".py",
   "mimetype": "text/x-python",
   "name": "python",
   "nbconvert_exporter": "python",
   "pygments_lexer": "ipython3",
   "version": "3.9.10"
  },
  "orig_nbformat": 4,
  "vscode": {
   "interpreter": {
    "hash": "b0fa6594d8f4cbf19f97940f81e996739fb7646882a419484c72d19e05852a7e"
   }
  }
 },
 "nbformat": 4,
 "nbformat_minor": 2
}
